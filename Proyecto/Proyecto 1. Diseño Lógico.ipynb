{
 "cells": [
  {
   "cell_type": "markdown",
   "id": "6886ec12",
   "metadata": {},
   "source": [
    "\n",
    "# Proyecto 1 de Diseño Lógico\n",
    "## Implementación del algoritmo de Quine-McCluskey \n",
    "\n",
    "/\n",
    "\n",
    "<div class=\"pull-left\">\n",
    "\n",
    "<center>David Medina Mayorga </center>\n",
    "<center>Escuela de Ingeniería en Electrónica<center>\n",
    "<center>Instituto Tecnológico de Costa Rica<center>\n",
    "<center>Cartago, Costa Rica<center>\n",
    "<center>david.medina@estudiantec.cr<center>\n",
    "\n",
    "</div> \n",
    " \n",
    "<div class=\"pull-right\">\n",
    "<center>Jimena León Huertas </center>\n",
    "<center>Escuela de Ingeniería en Computadores<center>\n",
    "<center>Instituto Tecnológico de Costa Rica<center>\n",
    "<center>Cartago, Costa Rica<center>\n",
    "<center>mena.leon@estudiantec.cr<center>.\n",
    "\n",
    "</div> \n",
    " "
   ]
  },
  {
   "cell_type": "markdown",
   "id": "6658416e",
   "metadata": {},
   "source": [
    "### Introducción"
   ]
  },
  {
   "cell_type": "markdown",
   "id": "a788e5f0",
   "metadata": {},
   "source": [
    "La minimización lógica puede convertirse en un proceso muy complicado. En las aplicaciones del diseño lógico se pueden ver impicadas funciones de pocas variables que se pueden analizar y minimizar utilizando métodos visuales como los mapas de Karnaugh, sin embargo, también se pueden encontrar funciones con múltiples variables más complejas que son imposibles de minimizar sin el uso de un algoritmo computacional.\n",
    "\n",
    "En este proyecto se implementará el algoritmo tabular de Quine-McCluskey que consiste en encontrar todos los implicantes primos de la función booleana y seleccionar un conjunto mínimo de implicantes primos que cubra la función. Este algoritmo es exacto, esto quiere decir que se garantiza una minimización máxima de la función. \n",
    "\n",
    "Debido a la necesidad creciente de aumentar la densidad de los chips VLSI, se han descubierto métodos más efectivos para la minimización de funciones lógicas, por ejemplo, el algoritmo Espresso. Este algoritmo es un método heurístico, se reduce el tamaño de memoria y tiempo de ejecución, sin embargo, no garantiza una minimización máxima. A pesar de no minimizar la máximo, se encuentra una buena solución para hasta docenas de variables en un muy corto periodo. El algoritmo Espresso se utilizará para comparar el tiempo de ejecución con la implementación de Quine-McCluskey realizada."
   ]
  },
  {
   "cell_type": "markdown",
   "id": "d8db6092",
   "metadata": {},
   "source": [
    "### Código"
   ]
  },
  {
   "cell_type": "code",
   "execution_count": 1,
   "id": "5a62b8b8",
   "metadata": {},
   "outputs": [],
   "source": [
    "#Librerias\n",
    "from pyeda.inter import * \n",
    "import string"
   ]
  },
  {
   "cell_type": "markdown",
   "id": "7ebcba04",
   "metadata": {},
   "source": [
    "##### Algoritmo Quine-McCluskey"
   ]
  },
  {
   "cell_type": "markdown",
   "id": "d84b8a39",
   "metadata": {},
   "source": [
    "##### Algoritmo Espresso"
   ]
  },
  {
   "cell_type": "code",
   "execution_count": 2,
   "id": "34f600ee-27ea-44a4-b380-f58a8f93c5f4",
   "metadata": {},
   "outputs": [],
   "source": [
    "#FUNCIONES\n",
    "\n",
    "\"Se construye la dimensión de la columna Y de la tabla de verdad en función de la cantidad de variables escogidas\"\n",
    "def ConstruirY (num_variables): \n",
    "    \n",
    "    Yvar = \"0\"  \n",
    "    Yaux = \",0\" \n",
    "    \n",
    "    for i in range(1,(2**num_variables),1):\n",
    "        Yvar = Yvar+Yaux\n",
    "        \n",
    "    return Yvar #Se retorna el string base de 2**n ceros\n",
    "\n",
    "\n",
    "\"Se construye la columna Y de la tabla de verdad en función de la suma de minterminos\"\n",
    "def ObtenerYtts (minterminos, Y): #Se recibe una lista de mintérminos y una \"máscara\" de la columna Y con 2**n ceros\n",
    "    \n",
    "    Y6var_lista = Y.split(\",\") \n",
    "    \n",
    "    minTer = minterminos  \n",
    "    minTer_int = list(map(int,  minTer))\n",
    "    Y6var_int_list = list(map(int, Y6var_lista))\n",
    "    \n",
    "    for i in minTer_int :\n",
    "        Y6var_int_list[i] = 1\n",
    "    \n",
    "    Y6var_int_list = list(map(str, Y6var_int_list))\n",
    "    Ytts = \"\".join(Y6var_int_list)\n",
    "   \n",
    "    return Ytts #Se retorna la columna Y de la tabla de verdad \n",
    "\n",
    "\n",
    "\"Minimización de tablas de verdad con el algoritmo Espresso\"\n",
    "def EspressoMin (num_variables,Ytts): #Se recibe la cantidad de variables y las salidas de la tabla de verdad\n",
    "    \n",
    "    X = ttvars('x', num_variables) #Se diferencian las variables de acuerdo a su posición\n",
    "    fbool = truthtable(X,Ytts) #Se define la función booleana con las variables y la tabla de verdad\n",
    "    fboolm = espresso_tts(fbool) #Se minimiza la función booleana\n",
    "    \n",
    "    return fboolm #Se retorna la función booleana minimizada"
   ]
  },
  {
   "cell_type": "code",
   "execution_count": 3,
   "id": "9821cc4a-2c34-4902-bee5-82c347f37a31",
   "metadata": {
    "scrolled": true
   },
   "outputs": [
    {
     "name": "stdout",
     "output_type": "stream",
     "text": [
      "Suma de minterminos:  1,3,4,5,9,11,12,13,14,15\n",
      "Cantidad de variables: 4\n",
      "\n",
      "\n",
      "(Or(And(x[0], ~x[2]), And(x[2], x[3]), And(~x[1], x[2])),)\n"
     ]
    }
   ],
   "source": [
    "#Implementación de Espresso básica en consola \n",
    "\n",
    "string_Minterms = input(\"Suma de minterminos:  \")\n",
    "minterminos_Lista = string_Minterms.split(\",\")  # Con esto cada mintermino se mete en una lista\n",
    "\n",
    "num_variables = int(input(\"Cantidad de variables: \"))\n",
    "\n",
    "print(\"\\n\") \n",
    "\n",
    "Y = ConstruirY(num_variables) #Se construye las salidas de la tabla de verdad\n",
    "print(EspressoMin(num_variables, ObtenerYtts(minterminos_Lista,Y))) #Se implementa la minimización con Espresso"
   ]
  },
  {
   "cell_type": "markdown",
   "id": "b34bf63e",
   "metadata": {},
   "source": [
    "### Referencias\n",
    "\n",
    "- PyEDA https://pyeda.readthedocs.io/en/latest/\n",
    "- Felipe Santiago Espinoza. Video demostrativo del algoritmo de Quine McCluskey. URL: https://www.youtube.com/watch?v=DTOzK88Inkk\n",
    "- Synthesis of Digital Systems - IITD. Two-level Logic Optimisation. URL: https://www.youtube.com/watch?v=isqtQmWpDtg\n",
    "- F. Wakerly. Diseño Digital: principios y prácticas. Pearson, México, 2001\n"
   ]
  }
 ],
 "metadata": {
  "kernelspec": {
   "display_name": "Python 3 (ipykernel)",
   "language": "python",
   "name": "python3"
  },
  "language_info": {
   "codemirror_mode": {
    "name": "ipython",
    "version": 3
   },
   "file_extension": ".py",
   "mimetype": "text/x-python",
   "name": "python",
   "nbconvert_exporter": "python",
   "pygments_lexer": "ipython3",
   "version": "3.9.8"
  }
 },
 "nbformat": 4,
 "nbformat_minor": 5
}
