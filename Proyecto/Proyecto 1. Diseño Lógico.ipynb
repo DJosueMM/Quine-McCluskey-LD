{
 "cells": [
  {
   "cell_type": "code",
   "execution_count": null,
   "id": "07ba950d-6f68-4805-8c8e-2ff9c4e8a3c4",
   "metadata": {},
   "outputs": [],
   "source": [
    "#Librerias\n",
    "\"\"\"\n",
    "PyEDA https://github.com/cjdrake/pyeda \n",
    "\"\"\"\n",
    "from pyeda.inter import * \n",
    "\n",
    "import string"
   ]
  },
  {
   "cell_type": "code",
   "execution_count": null,
   "id": "34f600ee-27ea-44a4-b380-f58a8f93c5f4",
   "metadata": {},
   "outputs": [],
   "source": [
    "#FUNCIONES\n",
    "\"Se construye la dimensión de la columna Y de la tabla de verdad en función de la cantidad de variables escogidas\"\n",
    "def ConstruirY (num_variables): \n",
    "    \n",
    "    Yvar = \"0\"  \n",
    "    Yaux = \",0\" \n",
    "    \n",
    "    for i in range(1,(2**num_variables),1):\n",
    "        Yvar = Yvar+Yaux\n",
    "        \n",
    "    return Yvar #Se retorna el string base de 2**n ceros\n",
    "\n",
    "\n",
    "\"Se construye la columna Y de la tabla de verdad en función de la suma de minterminos\"\n",
    "def ObtenerYtts (minterminos, Y): #Se recibe una lista de mintérminos y una \"máscara\" de la columna Y con 2**n ceros\n",
    "    \n",
    "    Y6var_lista = Y.split(\",\") \n",
    "    \n",
    "    minTer = minterminos  \n",
    "    minTer_int = list(map(int,  minTer))\n",
    "    Y6var_int_list = list(map(int, Y6var_lista))\n",
    "    \n",
    "    for i in minTer_int :\n",
    "        Y6var_int_list[i] = 1\n",
    "    \n",
    "    Y6var_int_list = list(map(str, Y6var_int_list))\n",
    "    Ytts = \"\".join(Y6var_int_list)\n",
    "   \n",
    "    return Ytts #Se retorna la columna Y de la tabla de verdad \n",
    "\n",
    "\n",
    "\"Minimización de tablas de verdad con el algoritmo Espresso\"\n",
    "def EspressoMin (num_variables,Ytts): #Se recibe la cantidad de variables y las salidas de la tabla de verdad\n",
    "    \n",
    "    X = ttvars('x', num_variables) #Se diferencian las variables de acuerdo a su posición\n",
    "    fbool = truthtable(X,Ytts) #Se define la función booleana con las variables y la tabla de verdad\n",
    "    fboolm = espresso_tts(fbool) #Se minimiza la función booleana\n",
    "    \n",
    "    return fboolm #Se retorna la función booleana minimizada"
   ]
  },
  {
   "cell_type": "code",
   "execution_count": 2,
   "id": "9821cc4a-2c34-4902-bee5-82c347f37a31",
   "metadata": {},
   "outputs": [
    {
     "name": "stdin",
     "output_type": "stream",
     "text": [
      "Suma de minterminos:   3,4,5\n",
      "Cantidad de variables:  3\n"
     ]
    },
    {
     "name": "stdout",
     "output_type": "stream",
     "text": [
      "\n",
      "\n",
      "(Or(And(~x[1], x[2]), And(x[0], x[1], ~x[2])),)\n"
     ]
    }
   ],
   "source": [
    "#Programa principal\n",
    "\n",
    "string_Minterms = input(\"Suma de minterminos:  \")\n",
    "minterminos_Lista = string_Minterms.split(\",\")  # Con esto cada mintermino se mete en una lista\n",
    "\n",
    "num_variables = int(input(\"Cantidad de variables: \"))\n",
    "\n",
    "print(\"\\n\") \n",
    "\n",
    "Y = ConstruirY(num_variables) #Se construye las salidas de la tabla de verdad\n",
    "print(EspressoMin(num_variables, ObtenerYtts(minterminos_Lista,Y))) #Se implementa la minimización con Espresso"
   ]
  },
  {
   "cell_type": "code",
   "execution_count": null,
   "id": "c420429f-103a-4b65-be35-897fb0e2147c",
   "metadata": {},
   "outputs": [],
   "source": []
  }
 ],
 "metadata": {
  "kernelspec": {
   "display_name": "Python 3 (ipykernel)",
   "language": "python",
   "name": "python3"
  },
  "language_info": {
   "codemirror_mode": {
    "name": "ipython",
    "version": 3
   },
   "file_extension": ".py",
   "mimetype": "text/x-python",
   "name": "python",
   "nbconvert_exporter": "python",
   "pygments_lexer": "ipython3",
   "version": "3.9.8"
  }
 },
 "nbformat": 4,
 "nbformat_minor": 5
}
