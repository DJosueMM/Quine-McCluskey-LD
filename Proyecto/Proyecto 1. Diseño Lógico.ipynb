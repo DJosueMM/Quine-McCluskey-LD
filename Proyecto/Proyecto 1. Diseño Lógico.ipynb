{
 "cells": [
  {
   "cell_type": "markdown",
   "id": "0af9f4e8",
   "metadata": {},
   "source": [
    "\n",
    "# Proyecto 1 de Diseño Lógico\n",
    "## Implementación del algoritmo de Quine-McCluskey \n",
    "\n",
    "\n",
    "\n",
    "////////////////////////////////////////////////////////////////////////////////////////////////////////////////////////////////////////////\n",
    "\n",
    "<div class=\"pull-left\">\n",
    "\n",
    "<center>David Medina Mayorga </center>\n",
    "<center>Escuela de Ingeniería en Electrónica<center>\n",
    "<center>Instituto Tecnológico de Costa Rica<center>\n",
    "<center>Cartago, Costa Rica<center>\n",
    "<center>david.medina@estudiantec.cr<center>\n",
    "\n",
    "</div>\n",
    "\n",
    "<center>Jimena León Huertas </center>\n",
    "<center>Escuela de Ingeniería en Computadores<center>\n",
    "<center>Instituto Tecnológico de Costa Rica<center>\n",
    "<center>Cartago, Costa Rica<center>\n",
    "<center>mena.leon@estudiantec.cr<center>.\n",
    "\n",
    "</div> \n",
    " "
   ]
  },
  {
   "cell_type": "markdown",
   "id": "b35dae40",
   "metadata": {},
   "source": [
    "### Introducción"
   ]
  },
  {
   "cell_type": "code",
   "execution_count": null,
   "id": "a54920c9",
   "metadata": {},
   "outputs": [],
   "source": []
  },
  {
   "cell_type": "markdown",
   "id": "74bd4cc3",
   "metadata": {},
   "source": [
    "### Código"
   ]
  },
  {
   "cell_type": "code",
   "execution_count": 1,
   "id": "f5017236",
   "metadata": {},
   "outputs": [],
   "source": [
    "#Librerias\n",
    "from pyeda.inter import * \n",
    "import string"
   ]
  },
  {
   "cell_type": "markdown",
   "id": "a011c8e1",
   "metadata": {},
   "source": [
    "##### Algoritmo Espresso"
   ]
  },
  {
   "cell_type": "code",
   "execution_count": 2,
   "id": "34f600ee-27ea-44a4-b380-f58a8f93c5f4",
   "metadata": {},
   "outputs": [],
   "source": [
    "#FUNCIONES\n",
    "\n",
    "\"Se construye la dimensión de la columna Y de la tabla de verdad en función de la cantidad de variables escogidas\"\n",
    "def ConstruirY (num_variables): \n",
    "    \n",
    "    Yvar = \"0\"  \n",
    "    Yaux = \",0\" \n",
    "    \n",
    "    for i in range(1,(2**num_variables),1):\n",
    "        Yvar = Yvar+Yaux\n",
    "        \n",
    "    return Yvar #Se retorna el string base de 2**n ceros\n",
    "\n",
    "\n",
    "\"Se construye la columna Y de la tabla de verdad en función de la suma de minterminos\"\n",
    "def ObtenerYtts (minterminos, Y): #Se recibe una lista de mintérminos y una \"máscara\" de la columna Y con 2**n ceros\n",
    "    \n",
    "    Y6var_lista = Y.split(\",\") \n",
    "    \n",
    "    minTer = minterminos  \n",
    "    minTer_int = list(map(int,  minTer))\n",
    "    Y6var_int_list = list(map(int, Y6var_lista))\n",
    "    \n",
    "    for i in minTer_int :\n",
    "        Y6var_int_list[i] = 1\n",
    "    \n",
    "    Y6var_int_list = list(map(str, Y6var_int_list))\n",
    "    Ytts = \"\".join(Y6var_int_list)\n",
    "   \n",
    "    return Ytts #Se retorna la columna Y de la tabla de verdad \n",
    "\n",
    "\n",
    "\"Minimización de tablas de verdad con el algoritmo Espresso\"\n",
    "def EspressoMin (num_variables,Ytts): #Se recibe la cantidad de variables y las salidas de la tabla de verdad\n",
    "    \n",
    "    X = ttvars('x', num_variables) #Se diferencian las variables de acuerdo a su posición\n",
    "    fbool = truthtable(X,Ytts) #Se define la función booleana con las variables y la tabla de verdad\n",
    "    fboolm = espresso_tts(fbool) #Se minimiza la función booleana\n",
    "    \n",
    "    return fboolm #Se retorna la función booleana minimizada"
   ]
  },
  {
   "cell_type": "code",
   "execution_count": 3,
   "id": "9821cc4a-2c34-4902-bee5-82c347f37a31",
   "metadata": {},
   "outputs": [
    {
     "name": "stdout",
     "output_type": "stream",
     "text": [
      "Suma de minterminos:  1,3,4,5,9,11,12,13,14,15\n",
      "Cantidad de variables: 4\n",
      "\n",
      "\n",
      "(Or(And(x[0], ~x[2]), And(x[2], x[3]), And(~x[1], x[2])),)\n"
     ]
    }
   ],
   "source": [
    "#Implementación de Espresso básica en consola \n",
    "\n",
    "string_Minterms = input(\"Suma de minterminos:  \")\n",
    "minterminos_Lista = string_Minterms.split(\",\")  # Con esto cada mintermino se mete en una lista\n",
    "\n",
    "num_variables = int(input(\"Cantidad de variables: \"))\n",
    "\n",
    "print(\"\\n\") \n",
    "\n",
    "Y = ConstruirY(num_variables) #Se construye las salidas de la tabla de verdad\n",
    "print(EspressoMin(num_variables, ObtenerYtts(minterminos_Lista,Y))) #Se implementa la minimización con Espresso"
   ]
  },
  {
   "cell_type": "markdown",
   "id": "4c6d2641",
   "metadata": {},
   "source": [
    "##### Algoritmo Quine-McCluskey"
   ]
  },
  {
   "cell_type": "markdown",
   "id": "68db7f6a",
   "metadata": {},
   "source": [
    "### Referencias\n",
    "\n",
    "- PyEDA https://pyeda.readthedocs.io/en/latest/\n",
    "- Felipe Santiago Espinoza. Video demostrativo del algoritmo de Quine McCluskey. URL: https://www.youtube.com/watch?v=DTOzK88Inkk\n",
    "- Synthesis of Digital Systems - IITD. Two-level Logic Optimisation. URL: https://www.youtube.com/watch?v=isqtQmWpDtg\n"
   ]
  },
  {
   "cell_type": "code",
   "execution_count": null,
   "id": "1dbfa69e",
   "metadata": {},
   "outputs": [],
   "source": []
  }
 ],
 "metadata": {
  "kernelspec": {
   "display_name": "Python 3 (ipykernel)",
   "language": "python",
   "name": "python3"
  },
  "language_info": {
   "codemirror_mode": {
    "name": "ipython",
    "version": 3
   },
   "file_extension": ".py",
   "mimetype": "text/x-python",
   "name": "python",
   "nbconvert_exporter": "python",
   "pygments_lexer": "ipython3",
   "version": "3.9.8"
  }
 },
 "nbformat": 4,
 "nbformat_minor": 5
}
